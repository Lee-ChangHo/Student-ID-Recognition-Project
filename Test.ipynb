{
 "cells": [
  {
   "cell_type": "markdown",
   "id": "161b1b9d",
   "metadata": {},
   "source": [
    "# 1번째 방법\n",
    "\n",
    "\n",
    "## 1. 이미지 불러오기\n",
    "## 2. 이미지 resize\n",
    "## 3. 컬러 이미지 -> 흑백 이미지\n",
    "## 4. 노이즈 제거 (가우시안 블러)"
   ]
  },
  {
   "cell_type": "code",
   "execution_count": 29,
   "id": "6ad79c12",
   "metadata": {},
   "outputs": [
    {
     "name": "stdout",
     "output_type": "stream",
     "text": [
      "(1080, 1440, 3)\n"
     ]
    }
   ],
   "source": [
    "import cv2\n",
    "import matplotlib.pyplot as plt\n",
    "import numpy as np\n",
    "\n",
    "# 이미지 불러오기\n",
    "src = cv2.imread('./Data/Example Student ID Card2.jpg', cv2.IMREAD_COLOR)\n",
    "\n",
    "# 원본 이미지 크기 구하기\n",
    "print(src.shape)\n",
    "\n",
    "# 이미지 shape resize\n",
    "src = cv2.resize(src, (500,300))\n",
    "\n",
    "# 이미지 흑백으로 변환\n",
    "src_gray = cv2.cvtColor(src, cv2.COLOR_BGR2GRAY)\n",
    "\n",
    "# 노이즈 제거 (가우시안 블러 사용)\n",
    "# 시그마의 값이 커질 수록 더 부드러워짐 (시각적으로는 더 흐려짐)\n",
    "src_blurred = cv2.GaussianBlur(src_gray, ksize=(7, 7), sigmaX = 1)\n",
    "\n",
    "cv2.imshow('src', src)\n",
    "cv2.imshow('src_gray', src_gray)\n",
    "cv2.imshow('src_blurred', src_blurred)\n",
    "cv2.waitKey(0)\n",
    "cv2.destroyAllWindows()"
   ]
  },
  {
   "cell_type": "markdown",
   "id": "afac6032",
   "metadata": {},
   "source": [
    "# 2번째 방법\n",
    "\n",
    "\n",
    "## 1. 이미지 불러오기\n",
    "## 2. 이미지 resize\n",
    "## 3. 컬러 이미지의 명도비 줄이기\n",
    "## 4. 명도비 줄인 컬러이미지 ->흑백 이미지\n",
    "## 5. 노이즈 제거 (가우시안 블러)"
   ]
  },
  {
   "cell_type": "code",
   "execution_count": 28,
   "id": "b2538c76",
   "metadata": {},
   "outputs": [
    {
     "name": "stdout",
     "output_type": "stream",
     "text": [
      "(1080, 1440, 3)\n"
     ]
    }
   ],
   "source": [
    "import cv2\n",
    "import matplotlib.pyplot as plt\n",
    "import numpy as np\n",
    "\n",
    "# 이미지 불러오기\n",
    "src = cv2.imread('./Data/Example Student ID Card2.jpg', cv2.IMREAD_COLOR)\n",
    "\n",
    "# 원본 이미지 크기 구하기 shape(h, w, c)\n",
    "print(src.shape)\n",
    "\n",
    "# 이미지 shape resize\n",
    "src = cv2.resize(src, (500,300))\n",
    "\n",
    "# 이미지 분할\n",
    "rgb_planes = cv2.split(src)\n",
    "\n",
    "result_planes = []\n",
    "result_norm_planes = []\n",
    "for plane in rgb_planes:\n",
    "    # 팽창 연산을 통해 배경 이미지 생성\n",
    "    dilated_img = cv2.dilate(plane, np.ones((7,7), np.uint8))\n",
    "    \n",
    "    # 배경 이미지를 이용하여 중간 픽셀값 계산\n",
    "    bg_img = cv2.medianBlur(dilated_img, 21)\n",
    " \n",
    "    # 중간 픽셀값과 입력 이미지의 차이 계산\n",
    "    diff_img = 255 - cv2.absdiff(plane, bg_img)\n",
    "    \n",
    "    # 차이 이미지를 정규화하여 그림자를 강조\n",
    "    norm_img = cv2.normalize(diff_img,None, alpha=0, beta=255, norm_type=cv2.NORM_MINMAX, dtype=cv2.CV_8UC1)\n",
    "    \n",
    "    # 결과 이미지 리스트에 추가\n",
    "    result_planes.append(diff_img)\n",
    "    result_norm_planes.append(norm_img)\n",
    "\n",
    "# 결과 이미지에 합침\n",
    "result = cv2.merge(result_planes)\n",
    "result_norm = cv2.merge(result_norm_planes)\n",
    "\n",
    "# 이미지 흑백으로 변환\n",
    "src_gray = cv2.cvtColor(result_norm, cv2.COLOR_BGR2GRAY)\n",
    "\n",
    "# 노이즈 제거 (가우시안 블러 사용)\n",
    "# 시그마의 값이 커질 수록 더 부드러워짐 (시각적으로는 더 흐려짐)\n",
    "src_blurred = cv2.GaussianBlur(src_gray, ksize=(7, 7), sigmaX = 1)\n",
    "\n",
    "cv2.imshow('src', src)\n",
    "cv2.imshow('shadows_out.jpg', result)\n",
    "cv2.imshow('shadows_out_norm.jpg', result_norm)\n",
    "cv2.imshow('src_gray', src_gray)\n",
    "cv2.imshow('src_blurred', src_blurred)\n",
    "cv2.waitKey(0)\n",
    "cv2.destroyAllWindows()"
   ]
  },
  {
   "cell_type": "markdown",
   "id": "8faa3e87",
   "metadata": {},
   "source": [
    "# 3번째 방법\n",
    "\n",
    "\n",
    "## 1. 이미지 불러오기\n",
    "## 2. 이미지 resize\n",
    "## 3. 컬러 이미지 -> 흑백 이미지\n",
    "## 4. 명도비 줄이기\n",
    "## 5. 노이즈 제거 (가우시안 블러)"
   ]
  },
  {
   "cell_type": "code",
   "execution_count": 34,
   "id": "0de1e24f",
   "metadata": {},
   "outputs": [
    {
     "name": "stdout",
     "output_type": "stream",
     "text": [
      "(1080, 1440, 3)\n"
     ]
    }
   ],
   "source": [
    "import cv2\n",
    "import matplotlib.pyplot as plt\n",
    "import numpy as np\n",
    "\n",
    "# 이미지 불러오기\n",
    "src = cv2.imread('./Data/Example Student ID Card2.jpg', cv2.IMREAD_COLOR)\n",
    "\n",
    "# 원본 이미지 크기 구하기 shape(h, w, c)\n",
    "print(src.shape)\n",
    "\n",
    "# 이미지 shape resize\n",
    "src = cv2.resize(src, (500,300))\n",
    "\n",
    "# 이미지 흑백으로 변환\n",
    "src_gray = cv2.cvtColor(src, cv2.COLOR_BGR2GRAY)\n",
    "\n",
    "# 이미지 분할\n",
    "rgb_planes = cv2.split(src_gray)\n",
    "\n",
    "result_planes = []\n",
    "result_norm_planes = []\n",
    "for plane in rgb_planes:\n",
    "    # 팽창 연산을 통해 배경 이미지 생성\n",
    "    dilated_img = cv2.dilate(plane, np.ones((7,7), np.uint8))\n",
    "    \n",
    "    # 배경 이미지를 이용하여 중간 픽셀값 계산\n",
    "    bg_img = cv2.medianBlur(dilated_img, 21)\n",
    " \n",
    "    # 중간 픽셀값과 입력 이미지의 차이 계산\n",
    "    diff_img = 255 - cv2.absdiff(plane, bg_img)\n",
    "    \n",
    "    # 차이 이미지를 정규화하여 그림자를 강조\n",
    "    norm_img = cv2.normalize(diff_img,None, alpha=0, beta=255, norm_type=cv2.NORM_MINMAX, dtype=cv2.CV_8UC1)\n",
    "    \n",
    "    # 결과 이미지 리스트에 추가\n",
    "    result_planes.append(diff_img)\n",
    "    result_norm_planes.append(norm_img)\n",
    "\n",
    "# 결과 이미지에 합침\n",
    "result = cv2.merge(result_planes)\n",
    "result_norm = cv2.merge(result_norm_planes)\n",
    "\n",
    "# 노이즈 제거 (가우시안 블러 사용)\n",
    "# 시그마의 값이 커질 수록 더 부드러워짐 (시각적으로는 더 흐려짐)\n",
    "src_blurred = cv2.GaussianBlur(result_norm, ksize=(7, 7), sigmaX = 1)\n",
    "\n",
    "cv2.imshow('src', src)\n",
    "cv2.imshow('src_gray', src_gray)\n",
    "cv2.imshow('shadows_out.jpg', result)\n",
    "cv2.imshow('shadows_out_norm.jpg', result_norm)\n",
    "cv2.imshow('src_blurred', src_blurred)\n",
    "cv2.waitKey(0)\n",
    "cv2.destroyAllWindows()"
   ]
  },
  {
   "cell_type": "code",
   "execution_count": null,
   "id": "485e165a",
   "metadata": {},
   "outputs": [],
   "source": []
  },
  {
   "cell_type": "code",
   "execution_count": null,
   "id": "6b8c0f90",
   "metadata": {},
   "outputs": [],
   "source": []
  },
  {
   "cell_type": "code",
   "execution_count": null,
   "id": "10b7fb97",
   "metadata": {},
   "outputs": [],
   "source": []
  }
 ],
 "metadata": {
  "kernelspec": {
   "display_name": "Python 3 (ipykernel)",
   "language": "python",
   "name": "python3"
  },
  "language_info": {
   "codemirror_mode": {
    "name": "ipython",
    "version": 3
   },
   "file_extension": ".py",
   "mimetype": "text/x-python",
   "name": "python",
   "nbconvert_exporter": "python",
   "pygments_lexer": "ipython3",
   "version": "3.11.2"
  }
 },
 "nbformat": 4,
 "nbformat_minor": 5
}
