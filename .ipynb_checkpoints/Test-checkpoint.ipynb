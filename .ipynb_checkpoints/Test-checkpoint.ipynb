{
 "cells": [
  {
   "cell_type": "markdown",
   "id": "a20b2bea",
   "metadata": {},
   "source": [
    "# 1번째 방법\n",
    "\n",
    "\n",
    "## 1. 이미지 불러오기\n",
    "## 2. 이미지 resize\n",
    "## 3. 컬러 이미지 -> 흑백 이미지\n",
    "## 4. 노이즈 제거 (가우시안 블러)"
   ]
  },
  {
   "cell_type": "code",
   "execution_count": 29,
   "id": "46bbf68d",
   "metadata": {},
   "outputs": [
    {
     "name": "stdout",
     "output_type": "stream",
     "text": [
      "(1080, 1440, 3)\n"
     ]
    }
   ],
   "source": [
    "import cv2\n",
    "import matplotlib.pyplot as plt\n",
    "import numpy as np\n",
    "\n",
    "# 이미지 불러오기\n",
    "src = cv2.imread('./Data/Example Student ID Card2.jpg', cv2.IMREAD_COLOR)\n",
    "\n",
    "# 원본 이미지 크기 구하기\n",
    "print(src.shape)\n",
    "\n",
    "# 이미지 shape resize\n",
    "src = cv2.resize(src, (500,300))\n",
    "\n",
    "# 이미지 흑백으로 변환\n",
    "src_gray = cv2.cvtColor(src, cv2.COLOR_BGR2GRAY)\n",
    "\n",
    "# 노이즈 제거 (가우시안 블러 사용)\n",
    "# 시그마의 값이 커질 수록 더 부드러워짐 (시각적으로는 더 흐려짐)\n",
    "src_blurred = cv2.GaussianBlur(src_gray, ksize=(7, 7), sigmaX = 1)\n",
    "\n",
    "cv2.imshow('src', src)\n",
    "cv2.imshow('src_gray', src_gray)\n",
    "cv2.imshow('src_blurred', src_blurred)\n",
    "cv2.waitKey(0)\n",
    "cv2.destroyAllWindows()"
   ]
  },
  {
   "cell_type": "code",
   "execution_count": 50,
   "id": "9e172440",
   "metadata": {},
   "outputs": [],
   "source": [
    "# adaptiveThreshold로 적정임계치 자동으로 선택 후 이진화\n",
    "thresh= cv2.adaptiveThreshold(src_blurred, 255, cv2.ADAPTIVE_THRESH_MEAN_C, cv2.THRESH_BINARY, 11, 2)\n",
    "\n",
    "cv2.imshow('thresh', thresh)\n",
    "cv2.waitKey(0)\n",
    "cv2.destroyAllWindows()"
   ]
  },
  {
   "cell_type": "code",
   "execution_count": 57,
   "id": "bdd687f1",
   "metadata": {},
   "outputs": [
    {
     "ename": "error",
     "evalue": "OpenCV(4.7.0) D:\\a\\opencv-python\\opencv-python\\opencv\\modules\\highgui\\src\\window.cpp:971: error: (-215:Assertion failed) size.width>0 && size.height>0 in function 'cv::imshow'\n",
     "output_type": "error",
     "traceback": [
      "\u001b[1;31m---------------------------------------------------------------------------\u001b[0m",
      "\u001b[1;31merror\u001b[0m                                     Traceback (most recent call last)",
      "Cell \u001b[1;32mIn[57], line 9\u001b[0m\n\u001b[0;32m      6\u001b[0m hist \u001b[38;5;241m=\u001b[39m cv2\u001b[38;5;241m.\u001b[39mcalcHist([thresh], [\u001b[38;5;241m0\u001b[39m], \u001b[38;5;28;01mNone\u001b[39;00m, [\u001b[38;5;241m256\u001b[39m], [\u001b[38;5;241m0\u001b[39m,\u001b[38;5;241m256\u001b[39m]) \u001b[38;5;66;03m# 꼭 리스트 형태로 입력\u001b[39;00m\n\u001b[0;32m      7\u001b[0m histImg \u001b[38;5;241m=\u001b[39m getGrayHistImage(hist)\n\u001b[1;32m----> 9\u001b[0m \u001b[43mcv2\u001b[49m\u001b[38;5;241;43m.\u001b[39;49m\u001b[43mimshow\u001b[49m\u001b[43m(\u001b[49m\u001b[38;5;124;43m'\u001b[39;49m\u001b[38;5;124;43mhistImg\u001b[39;49m\u001b[38;5;124;43m'\u001b[39;49m\u001b[43m,\u001b[49m\u001b[43m \u001b[49m\u001b[43mhistImg\u001b[49m\u001b[43m)\u001b[49m\n\u001b[0;32m     10\u001b[0m cv2\u001b[38;5;241m.\u001b[39mwaitKey()\n\u001b[0;32m     11\u001b[0m cv2\u001b[38;5;241m.\u001b[39mdestroyAllWindows()\n",
      "\u001b[1;31merror\u001b[0m: OpenCV(4.7.0) D:\\a\\opencv-python\\opencv-python\\opencv\\modules\\highgui\\src\\window.cpp:971: error: (-215:Assertion failed) size.width>0 && size.height>0 in function 'cv::imshow'\n"
     ]
    }
   ],
   "source": [
    "# 히스토그램으로 시각화\n",
    "def getGrayHistImage(hist):\n",
    "    # 가장 높은 높이가 100으로 제한을 둠\n",
    "    imgHist = np.full((100, 256), 255, dtype=np.uint8)\n",
    "    \n",
    "    histMax = np.max(hist) # histmax = 255\n",
    "    for x in range(256):\n",
    "        pt1 = (x, 100)                                   # 시작점, 좌측 상단 기준\n",
    "        pt2 = (x, 100 - int(hist[x, 0] * 100 / histMax)) # 끝점, 100을 곱하고 255로 나눠 단위 통일\n",
    "        cv2.line(imgHist, pt1, pt2, 0)                   # 직선을 그려 히스토그램 그리기\n",
    "\n",
    "    return imgHist\n",
    "\n",
    "hist = cv2.calcHist([thresh], [0], None, [256], [0,256]) # 꼭 리스트 형태로 입력\n",
    "histImg = getGrayHistImage(hist)\n",
    "\n",
    "cv2.imshow('histImg', histImg)\n",
    "cv2.waitKey()\n",
    "cv2.destroyAllWindows()"
   ]
  },
  {
   "cell_type": "code",
   "execution_count": null,
   "id": "21b0c127",
   "metadata": {},
   "outputs": [],
   "source": []
  },
  {
   "cell_type": "code",
   "execution_count": null,
   "id": "a48a39a8",
   "metadata": {},
   "outputs": [],
   "source": []
  },
  {
   "cell_type": "code",
   "execution_count": null,
   "id": "6b8a73f1",
   "metadata": {},
   "outputs": [],
   "source": []
  },
  {
   "cell_type": "markdown",
   "id": "de9f0d10",
   "metadata": {},
   "source": [
    "# 2번째 방법\n",
    "\n",
    "\n",
    "## 1. 이미지 불러오기\n",
    "## 2. 이미지 resize\n",
    "## 3. 컬러 이미지의 명도비 줄이기\n",
    "## 4. 명도비 줄인 컬러이미지 ->흑백 이미지\n",
    "## 5. 노이즈 제거 (가우시안 블러)"
   ]
  },
  {
   "cell_type": "code",
   "execution_count": 51,
   "id": "ef386451",
   "metadata": {},
   "outputs": [
    {
     "name": "stdout",
     "output_type": "stream",
     "text": [
      "(1080, 1440, 3)\n"
     ]
    }
   ],
   "source": [
    "import cv2\n",
    "import matplotlib.pyplot as plt\n",
    "import numpy as np\n",
    "\n",
    "# 이미지 불러오기\n",
    "src = cv2.imread('./Data/Example Student ID Card2.jpg', cv2.IMREAD_COLOR)\n",
    "\n",
    "# 원본 이미지 크기 구하기 shape(h, w, c)\n",
    "print(src.shape)\n",
    "\n",
    "# 이미지 shape resize\n",
    "src = cv2.resize(src, (500,300))\n",
    "\n",
    "# 이미지 분할\n",
    "rgb_planes = cv2.split(src)\n",
    "\n",
    "result_planes = []\n",
    "result_norm_planes = []\n",
    "for plane in rgb_planes:\n",
    "    # 팽창 연산을 통해 배경 이미지 생성\n",
    "    dilated_img = cv2.dilate(plane, np.ones((7,7), np.uint8))\n",
    "    \n",
    "    # 배경 이미지를 이용하여 중간 픽셀값 계산\n",
    "    bg_img = cv2.medianBlur(dilated_img, 21)\n",
    " \n",
    "    # 중간 픽셀값과 입력 이미지의 차이 계산\n",
    "    diff_img = 255 - cv2.absdiff(plane, bg_img)\n",
    "    \n",
    "    # 차이 이미지를 정규화하여 그림자를 강조\n",
    "    norm_img = cv2.normalize(diff_img,None, alpha=0, beta=255, norm_type=cv2.NORM_MINMAX, dtype=cv2.CV_8UC1)\n",
    "    \n",
    "    # 결과 이미지 리스트에 추가\n",
    "    result_planes.append(diff_img)\n",
    "    result_norm_planes.append(norm_img)\n",
    "\n",
    "# 결과 이미지에 합침\n",
    "result = cv2.merge(result_planes)\n",
    "result_norm = cv2.merge(result_norm_planes)\n",
    "\n",
    "# 이미지 흑백으로 변환\n",
    "src_gray = cv2.cvtColor(result_norm, cv2.COLOR_BGR2GRAY)\n",
    "\n",
    "# 노이즈 제거 (가우시안 블러 사용)\n",
    "# 시그마의 값이 커질 수록 더 부드러워짐 (시각적으로는 더 흐려짐)\n",
    "src_blurred = cv2.GaussianBlur(src_gray, ksize=(7, 7), sigmaX = 1)\n",
    "\n",
    "cv2.imshow('src', src)\n",
    "cv2.imshow('shadows_out.jpg', result)\n",
    "cv2.imshow('shadows_out_norm.jpg', result_norm)\n",
    "cv2.imshow('src_gray', src_gray)\n",
    "cv2.imshow('src_blurred', src_blurred)\n",
    "cv2.waitKey(0)\n",
    "cv2.destroyAllWindows()"
   ]
  },
  {
   "cell_type": "code",
   "execution_count": 52,
   "id": "24f8d5fa",
   "metadata": {},
   "outputs": [],
   "source": [
    "# adaptiveThreshold로 적정임계치 자동으로 선택 후 이진화\n",
    "thresh= cv2.adaptiveThreshold(src_blurred, 255, cv2.ADAPTIVE_THRESH_MEAN_C, cv2.THRESH_BINARY, 11, 2)\n",
    "               \n",
    "cv2.imshow('thresh', thresh)\n",
    "cv2.waitKey(0)\n",
    "cv2.destroyAllWindows()"
   ]
  },
  {
   "cell_type": "code",
   "execution_count": null,
   "id": "bdb8c8a5",
   "metadata": {},
   "outputs": [],
   "source": []
  },
  {
   "cell_type": "code",
   "execution_count": null,
   "id": "17003fde",
   "metadata": {},
   "outputs": [],
   "source": []
  },
  {
   "cell_type": "code",
   "execution_count": null,
   "id": "d710480a",
   "metadata": {},
   "outputs": [],
   "source": []
  },
  {
   "cell_type": "markdown",
   "id": "4dc93593",
   "metadata": {},
   "source": [
    "# 3번째 방법\n",
    "\n",
    "\n",
    "## 1. 이미지 불러오기\n",
    "## 2. 이미지 resize\n",
    "## 3. 컬러 이미지 -> 흑백 이미지\n",
    "## 4. 명도비 줄이기\n",
    "## 5. 노이즈 제거 (가우시안 블러)"
   ]
  },
  {
   "cell_type": "code",
   "execution_count": 37,
   "id": "1222162c",
   "metadata": {},
   "outputs": [
    {
     "name": "stdout",
     "output_type": "stream",
     "text": [
      "(1080, 1440, 3)\n"
     ]
    }
   ],
   "source": [
    "import cv2\n",
    "import matplotlib.pyplot as plt\n",
    "import numpy as np\n",
    "\n",
    "# 이미지 불러오기\n",
    "src = cv2.imread('./Data/Example Student ID Card2.jpg', cv2.IMREAD_COLOR)\n",
    "\n",
    "# 원본 이미지 크기 구하기 shape(h, w, c)\n",
    "print(src.shape)\n",
    "\n",
    "# 이미지 shape resize\n",
    "src = cv2.resize(src, (500,300))\n",
    "\n",
    "# 이미지 흑백으로 변환\n",
    "src_gray = cv2.cvtColor(src, cv2.COLOR_BGR2GRAY)\n",
    "\n",
    "# 이미지 분할\n",
    "rgb_planes = cv2.split(src_gray)\n",
    "\n",
    "result_planes = []\n",
    "result_norm_planes = []\n",
    "for plane in rgb_planes:\n",
    "    # 팽창 연산을 통해 배경 이미지 생성\n",
    "    dilated_img = cv2.dilate(plane, np.ones((7,7), np.uint8))\n",
    "    \n",
    "    # 배경 이미지를 이용하여 중간 픽셀값 계산\n",
    "    bg_img = cv2.medianBlur(dilated_img, 21)\n",
    " \n",
    "    # 중간 픽셀값과 입력 이미지의 차이 계산\n",
    "    diff_img = 255 - cv2.absdiff(plane, bg_img)\n",
    "    \n",
    "    # 차이 이미지를 정규화하여 그림자를 강조\n",
    "    norm_img = cv2.normalize(diff_img,None, alpha=0, beta=255, norm_type=cv2.NORM_MINMAX, dtype=cv2.CV_8UC1)\n",
    "    \n",
    "    # 결과 이미지 리스트에 추가\n",
    "    result_planes.append(diff_img)\n",
    "    result_norm_planes.append(norm_img)\n",
    "\n",
    "# 결과 이미지에 합침\n",
    "result = cv2.merge(result_planes)\n",
    "result_norm = cv2.merge(result_norm_planes)\n",
    "\n",
    "# 노이즈 제거 (가우시안 블러 사용)\n",
    "# 시그마의 값이 커질 수록 더 부드러워짐 (시각적으로는 더 흐려짐)\n",
    "src_blurred = cv2.GaussianBlur(result_norm, ksize=(7, 7), sigmaX = 1)\n",
    "\n",
    "cv2.imshow('src', src)\n",
    "cv2.imshow('src_gray', src_gray)\n",
    "cv2.imshow('shadows_out.jpg', result)\n",
    "cv2.imshow('shadows_out_norm.jpg', result_norm)\n",
    "cv2.imshow('src_blurred', src_blurred)\n",
    "cv2.waitKey(0)\n",
    "cv2.destroyAllWindows()"
   ]
  },
  {
   "cell_type": "code",
   "execution_count": 53,
   "id": "ce5dbebc",
   "metadata": {},
   "outputs": [],
   "source": [
    "# adaptiveThreshold로 적정임계치 자동으로 선택 후 이진화\n",
    "thresh= cv2.adaptiveThreshold(src_blurred, 255, cv2.ADAPTIVE_THRESH_MEAN_C, cv2.THRESH_BINARY, 11, 2)\n",
    "               \n",
    "cv2.imshow('thresh', thresh)\n",
    "cv2.waitKey(0)\n",
    "cv2.destroyAllWindows()"
   ]
  },
  {
   "cell_type": "code",
   "execution_count": null,
   "id": "65bc0d64",
   "metadata": {},
   "outputs": [],
   "source": []
  },
  {
   "cell_type": "code",
   "execution_count": null,
   "id": "192a13cf",
   "metadata": {},
   "outputs": [],
   "source": []
  }
 ],
 "metadata": {
  "kernelspec": {
   "display_name": "Python 3 (ipykernel)",
   "language": "python",
   "name": "python3"
  },
  "language_info": {
   "codemirror_mode": {
    "name": "ipython",
    "version": 3
   },
   "file_extension": ".py",
   "mimetype": "text/x-python",
   "name": "python",
   "nbconvert_exporter": "python",
   "pygments_lexer": "ipython3",
   "version": "3.11.2"
  }
 },
 "nbformat": 4,
 "nbformat_minor": 5
}
