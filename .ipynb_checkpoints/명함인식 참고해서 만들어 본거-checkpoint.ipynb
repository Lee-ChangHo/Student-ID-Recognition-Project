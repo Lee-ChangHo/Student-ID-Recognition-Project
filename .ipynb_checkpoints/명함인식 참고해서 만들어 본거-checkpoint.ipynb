{
 "cells": [
  {
   "cell_type": "code",
   "execution_count": 2,
   "id": "56115344",
   "metadata": {},
   "outputs": [
    {
     "name": "stdout",
     "output_type": "stream",
     "text": [
      "(540, 720, 3)\n",
      "30\n"
     ]
    }
   ],
   "source": [
    "import sys\n",
    "import cv2\n",
    "import matplotlib.pyplot as plt\n",
    "import numpy as np\n",
    "\n",
    "'''\n",
    "# 함수 설정\n",
    "def reorderPts(pts):\n",
    "    idx = np.lexsort((pts[:, 1], pts[:, 0]))  # 칼럼0 -> 칼럼1 순으로 정렬한 인덱스를 반환\n",
    "    pts = pts[idx]  # x좌표로 정렬\n",
    "\n",
    "    if pts[0, 1] > pts[1, 1]:\n",
    "        pts[[0, 1]] = pts[[1, 0]]\n",
    "\n",
    "    if pts[2, 1] < pts[3, 1]:\n",
    "        pts[[2, 3]] = pts[[3, 2]]\n",
    "\n",
    "    return pts\n",
    "'''\n",
    "\n",
    "# 이미지 불러오기\n",
    "src = cv2.imread('./Data/Example Student ID Card2.jpg')\n",
    "\n",
    "if src is None:\n",
    "    print('image load failed')\n",
    "    sys.exit()\n",
    "    \n",
    "# 이미지 resize 0.5 * 0.5\n",
    "src = cv2.resize(src, (0,0), fx = 0.5, fy = 0.5)\n",
    "\n",
    "print(src.shape)\n",
    "\n",
    "# 이미지 사본 만들기\n",
    "copy = src.copy()\n",
    "\n",
    "# 흑백으로 변환\n",
    "src_gray = cv2.cvtColor(src, cv2.COLOR_BGR2GRAY)\n",
    "\n",
    "'''\n",
    "# 이진화\n",
    "ret, src_binary= cv2.threshold(src_gray, 0, 255, cv2.THRESH_BINARY | cv2.THRESH_OTSU)\n",
    "'''\n",
    "\n",
    "# 이진화 cv2.adaptivethreshold\n",
    "threshold1 = cv2.adaptiveThreshold(src_gray, 255, cv2.ADAPTIVE_THRESH_MEAN_C, cv2.THRESH_BINARY, 11, 2)\n",
    "\n",
    "# 외곽선 찾기\n",
    "contours, _ = cv2.findContours(threshold1, cv2.RETR_EXTERNAL, cv2.CHAIN_APPROX_NONE)\n",
    "\n",
    "print(len(contours))\n",
    "\n",
    "# 외곽선 근사화 contours가 list이기 때문에 for 사용\n",
    "for pts in contours: # pts = numpy.ndarray (K * 1 * 2 로 되어있음)\n",
    "    if cv2.contourArea(pts) < 1000:\n",
    "        continue\n",
    "        \n",
    "    # 외곽선 근사화(단순화)\n",
    "    approx = cv2.approxPolyDP(pts, cv2.arcLength(pts, True)*0.02, True)\n",
    "    \n",
    "    # 컨벡스가 아니면 제외\n",
    "    if not cv2.isContourConvex(approx) or len(approx) != 4:\n",
    "        continue\n",
    "    \n",
    "    w, h = 900, 500\n",
    "    # 네 꼭지점이 있는 사각형의 모양 변경 (찌그러뜨리기 or 팽팽하게 펴기)\n",
    "    src_resized = np.array([[approx[0, 0, :]], [approx[1, 0, :]], \n",
    "                            [approx[2, 0, :]], [approx[3, 0, :]]],dtype=np.float32)\n",
    "    \n",
    "    # 우측 상단, 좌측 상단, 우측 하단, 좌측 하단 순서로 입력\n",
    "    dst_resized = np.array([[0, h], [w, h], [w, 0], [0, 0]]).astype(np.float32)\n",
    "    \n",
    "    # getPerspectiveTransform(4개의 원본 좌표, 4개의 결과 좌표)\n",
    "    pers = cv2.getPerspectiveTransform(src_resized, dst_resized) \n",
    "    \n",
    "    #  warpPerspective(입력,  getPerspective의 값, 출력이미지의 크기)\n",
    "    dst = cv2.warpPerspective(src, pers, (w , h), flags=cv2.INTER_CUBIC)\n",
    "\n",
    "    cv2.polylines(copy, pts, True, (0, 0, 255), 2)  # 닫힌 외곽선이면 True, 컬러는 (b, g, r) \n",
    "\n",
    "cv2.imshow('src', src)\n",
    "cv2.imshow('src_gray', src_gray)\n",
    "cv2.imshow('src_binary', threshold1)\n",
    "cv2.imshow('contours', copy)\n",
    "cv2.waitKey()\n",
    "cv2.destroyAllWindows()"
   ]
  },
  {
   "cell_type": "code",
   "execution_count": null,
   "id": "72f13053",
   "metadata": {},
   "outputs": [],
   "source": []
  },
  {
   "cell_type": "code",
   "execution_count": null,
   "id": "4279bb55",
   "metadata": {},
   "outputs": [],
   "source": []
  },
  {
   "cell_type": "code",
   "execution_count": null,
   "id": "6202dae3",
   "metadata": {},
   "outputs": [],
   "source": []
  },
  {
   "cell_type": "code",
   "execution_count": null,
   "id": "aac49db4",
   "metadata": {},
   "outputs": [],
   "source": []
  },
  {
   "cell_type": "markdown",
   "id": "377b230c",
   "metadata": {},
   "source": [
    "# Adaptive Threshold"
   ]
  },
  {
   "cell_type": "code",
   "execution_count": null,
   "id": "509d654a",
   "metadata": {},
   "outputs": [],
   "source": [
    "# 이진화 방법\n",
    "threshold1 = cv2.Adaptivethreshold(src_gray, 255, cv2.ADAPTIVE_THRESH_MEAN_C, cv2.THRESH_BINARY, 11, 2)"
   ]
  }
 ],
 "metadata": {
  "kernelspec": {
   "display_name": "Python 3 (ipykernel)",
   "language": "python",
   "name": "python3"
  },
  "language_info": {
   "codemirror_mode": {
    "name": "ipython",
    "version": 3
   },
   "file_extension": ".py",
   "mimetype": "text/x-python",
   "name": "python",
   "nbconvert_exporter": "python",
   "pygments_lexer": "ipython3",
   "version": "3.11.2"
  }
 },
 "nbformat": 4,
 "nbformat_minor": 5
}
