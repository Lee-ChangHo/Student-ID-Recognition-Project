{
 "cells": [
  {
   "cell_type": "code",
   "execution_count": 1,
   "id": "6a29750e",
   "metadata": {},
   "outputs": [
    {
     "ename": "NameError",
     "evalue": "name 'src' is not defined",
     "output_type": "error",
     "traceback": [
      "\u001b[1;31m---------------------------------------------------------------------------\u001b[0m",
      "\u001b[1;31mNameError\u001b[0m                                 Traceback (most recent call last)",
      "Cell \u001b[1;32mIn[1], line 1\u001b[0m\n\u001b[1;32m----> 1\u001b[0m h, w \u001b[38;5;241m=\u001b[39m \u001b[43msrc\u001b[49m\u001b[38;5;241m.\u001b[39mshape[:\u001b[38;5;241m2\u001b[39m]\n\u001b[0;32m      2\u001b[0m dst1 \u001b[38;5;241m=\u001b[39m np\u001b[38;5;241m.\u001b[39mzeros((h, w, \u001b[38;5;241m3\u001b[39m), np\u001b[38;5;241m.\u001b[39muint8)\n\u001b[0;32m      3\u001b[0m dst2 \u001b[38;5;241m=\u001b[39m np\u001b[38;5;241m.\u001b[39mzeros((h, w, \u001b[38;5;241m3\u001b[39m), np\u001b[38;5;241m.\u001b[39muint8)\n",
      "\u001b[1;31mNameError\u001b[0m: name 'src' is not defined"
     ]
    }
   ],
   "source": [
    "h, w = src.shape[:2]\n",
    "dst1 = np.zeros((h, w, 3), np.uint8)\n",
    "dst2 = np.zeros((h, w, 3), np.uint8)\n",
    "dst3 = np.zeros((h, w, 3), np.uint8)\n",
    "\n",
    "# 외곽선 검출\n",
    "contours1, _ = cv2.findContours(src_thresh, cv2.RETR_EXTERNAL, cv2.CHAIN_APPROX_NONE)\n",
    "contours2, _ = cv2.findContours(src_thresh, cv2.RETR_LIST, cv2.CHAIN_APPROX_NONE)\n",
    "contours3, _ = cv2.findContours(src_thresh, cv2.RETR_CCOMP, cv2.CHAIN_APPROX_NONE)\n",
    "\n",
    "for i in range(len(contours1)):\n",
    "    pts1 = contours1[i]\n",
    "\n",
    "    color = (0, 0, 255)\n",
    "    cv2.drawContours(dst1, contours1, i, color, 1)\n",
    "\n",
    "    # 너무 작은 객체는 제외\n",
    "    if (cv2.contourArea(pts1) < 1000):\n",
    "        continue\n",
    "\n",
    "    # 외곽선 근사화\n",
    "    approx = cv2.approxPolyDP(pts1, cv2.arcLength(pts1, True)*0.02, True)\n",
    "\n",
    "    # 컨벡스가 아니면 제외\n",
    "    if not cv2.isContourConvex(approx):\n",
    "        continue\n",
    "\n",
    "    if len(approx) == 4:\n",
    "        cv2.drawContours(dst1, contours1, i, color, 2)\n",
    "        \n",
    "for i in range(len(contours2)):\n",
    "    pts2 = contours2[i]\n",
    "\n",
    "    color = (0, 0, 255)\n",
    "    cv2.drawContours(dst2, contours2, i, color, 1)\n",
    "\n",
    "    # 너무 작은 객체는 제외\n",
    "    if (cv2.contourArea(pts2) < 1000):\n",
    "        continue\n",
    "\n",
    "    # 외곽선 근사화\n",
    "    approx = cv2.approxPolyDP(pts2, cv2.arcLength(pts2, True)*0.02, True)\n",
    "\n",
    "    # 컨벡스가 아니면 제외\n",
    "    if not cv2.isContourConvex(approx):\n",
    "        continue\n",
    "\n",
    "    if len(approx) == 4:\n",
    "        cv2.drawContours(dst2, contours2, i, color, 2)\n",
    "        \n",
    "for i in range(len(contours3)):\n",
    "    pts3 = contours3[i]\n",
    "\n",
    "    color = (0, 0, 255)\n",
    "    cv2.drawContours(dst3, contours3, i, color, 1)\n",
    "\n",
    "    # 너무 작은 객체는 제외\n",
    "    if (cv2.contourArea(pts3) < 1000):\n",
    "        continue\n",
    "\n",
    "    # 외곽선 근사화 \n",
    "    approx = cv2.approxPolyDP(pts3, cv2.arcLength(pts3, True)*0.02, True)\n",
    "\n",
    "    # 컨벡스가 아니면 제외\n",
    "    if not cv2.isContourConvex(approx):\n",
    "        continue\n",
    "\n",
    "    if len(approx) == 4:\n",
    "        cv2.drawContours(dst3, contours3, i, color, 2)\n",
    "\n",
    "cv2.imshow('EXTERNAL', dst1)\n",
    "cv2.imshow('LIST', dst2)\n",
    "cv2.imshow('CCOMP', dst3)\n",
    "cv2.waitKey()\n",
    "cv2.destroyAllWindows()"
   ]
  },
  {
   "cell_type": "code",
   "execution_count": 2,
   "id": "52454875",
   "metadata": {},
   "outputs": [
    {
     "data": {
      "text/plain": [
       "123"
      ]
     },
     "execution_count": 2,
     "metadata": {},
     "output_type": "execute_result"
    }
   ],
   "source": [
    "123"
   ]
  },
  {
   "cell_type": "code",
   "execution_count": null,
   "id": "95a6611a",
   "metadata": {},
   "outputs": [],
   "source": []
  }
 ],
 "metadata": {
  "kernelspec": {
   "display_name": "Python 3 (ipykernel)",
   "language": "python",
   "name": "python3"
  },
  "language_info": {
   "codemirror_mode": {
    "name": "ipython",
    "version": 3
   },
   "file_extension": ".py",
   "mimetype": "text/x-python",
   "name": "python",
   "nbconvert_exporter": "python",
   "pygments_lexer": "ipython3",
   "version": "3.11.2"
  }
 },
 "nbformat": 4,
 "nbformat_minor": 5
}
