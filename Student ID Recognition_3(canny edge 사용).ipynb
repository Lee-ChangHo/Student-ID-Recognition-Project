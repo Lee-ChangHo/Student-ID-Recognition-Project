{
 "cells": [
  {
   "cell_type": "markdown",
   "id": "c2d1741b",
   "metadata": {},
   "source": [
    "# 학생증 학번 인식 프로젝트\n",
    "\n",
    "## Open CV 및 Tensorflow 활용"
   ]
  },
  {
   "cell_type": "markdown",
   "id": "c6c2297b",
   "metadata": {},
   "source": [
    "## 라이브러리 선언"
   ]
  },
  {
   "cell_type": "code",
   "execution_count": 238,
   "id": "70ab2c11",
   "metadata": {},
   "outputs": [],
   "source": [
    "import cv2\n",
    "import matplotlib.pyplot as plt\n",
    "import numpy as np"
   ]
  },
  {
   "cell_type": "markdown",
   "id": "8aa472f1",
   "metadata": {},
   "source": [
    "## 이미지 불러오기"
   ]
  },
  {
   "cell_type": "code",
   "execution_count": 239,
   "id": "ddb4e2cf",
   "metadata": {},
   "outputs": [],
   "source": [
    "Original_img = cv2.imread(\"Student ID Card.jpg\")"
   ]
  },
  {
   "cell_type": "markdown",
   "id": "60e88767",
   "metadata": {},
   "source": [
    "## 흑백으로 변환"
   ]
  },
  {
   "cell_type": "code",
   "execution_count": 240,
   "id": "cccd8985",
   "metadata": {},
   "outputs": [],
   "source": [
    "gray_img = cv2.cvtColor(Original_img, cv2.COLOR_BGR2GRAY)"
   ]
  },
  {
   "cell_type": "markdown",
   "id": "a1f26ebd",
   "metadata": {},
   "source": [
    "## 이미지 회전 - 그림판에서 각 꼭지점 위치 찾음"
   ]
  },
  {
   "cell_type": "code",
   "execution_count": 241,
   "id": "56baa420",
   "metadata": {},
   "outputs": [
    {
     "data": {
      "text/plain": [
       "'\\nwidth, height = 700, 400 # 가로 크기 700, 세로 크기 400으로 결과물 출력\\n\\nsrc = np.array([[441, 265], [987, 713], [584, 1056], [57, 439]], dtype=np.float32) # Input 4개 지점 (꼭지점 4개의 좌표로 그림판에서 점 찍으면 나옴)\\ndst = np.array([[0, 0], [width, 0], [width, height], [0, height]], dtype=np.float32) # Output 4개 지점\\n# 좌상, 우상, 우하, 좌하 (시계방향으로 4 지점 정의)\\n\\nmatrix = cv2.getPerspectiveTransform(src, dst) #Metrix 얻어 옴\\nrotated_img = cv2.warpPerspective(Original_img, matrix, (width, height)) # matrix 대로 변환\\n\\ncv2.imshow(\"rotated_img\", rotated_img)\\ncv2.waitKey()\\ncv2.destroyAllWindows()\\n'"
      ]
     },
     "execution_count": 241,
     "metadata": {},
     "output_type": "execute_result"
    }
   ],
   "source": [
    "'''\n",
    "width, height = 700, 400 # 가로 크기 700, 세로 크기 400으로 결과물 출력\n",
    "\n",
    "src = np.array([[441, 265], [987, 713], [584, 1056], [57, 439]], dtype=np.float32) # Input 4개 지점 (꼭지점 4개의 좌표로 그림판에서 점 찍으면 나옴)\n",
    "dst = np.array([[0, 0], [width, 0], [width, height], [0, height]], dtype=np.float32) # Output 4개 지점\n",
    "# 좌상, 우상, 우하, 좌하 (시계방향으로 4 지점 정의)\n",
    "\n",
    "matrix = cv2.getPerspectiveTransform(src, dst) #Metrix 얻어 옴\n",
    "rotated_img = cv2.warpPerspective(Original_img, matrix, (width, height)) # matrix 대로 변환\n",
    "\n",
    "cv2.imshow(\"rotated_img\", rotated_img)\n",
    "cv2.waitKey()\n",
    "cv2.destroyAllWindows()\n",
    "'''"
   ]
  },
  {
   "cell_type": "markdown",
   "id": "ac6ed16e",
   "metadata": {},
   "source": [
    "## 이미지 이진화 \n",
    "\n",
    "### 학생증을 뚜렷하게 만들기 위한 이진화 작업"
   ]
  },
  {
   "cell_type": "code",
   "execution_count": 251,
   "id": "da785a75",
   "metadata": {},
   "outputs": [],
   "source": [
    "ret, binary = cv2.threshold(gray_img, 170, 250, cv2.THRESH_BINARY)\n",
    "\n",
    "cv2.imshow('binary', binary)\n",
    "cv2.waitKey(0)\n",
    "cv2.destroyAllWindows()"
   ]
  },
  {
   "cell_type": "markdown",
   "id": "0ef2453c",
   "metadata": {},
   "source": [
    "### Otsu threshold 사용해서 적정 임계치 알아보기 (자동)"
   ]
  },
  {
   "cell_type": "code",
   "execution_count": 252,
   "id": "8d65e372",
   "metadata": {
    "scrolled": true
   },
   "outputs": [
    {
     "name": "stdout",
     "output_type": "stream",
     "text": [
      "otsu threshold 125.0\n"
     ]
    }
   ],
   "source": [
    "ret, otsu_img = cv2.threshold(gray_img, -1, 255, cv2.THRESH_BINARY | cv2.THRESH_OTSU)\n",
    "print('otsu threshold', ret)\n",
    "\n",
    "\n",
    "cv2.imshow('otsu threshold_img', otsu_img)\n",
    "cv2.waitKey(0)\n",
    "cv2.destroyAllWindows()"
   ]
  },
  {
   "cell_type": "markdown",
   "id": "5d2997e6",
   "metadata": {},
   "source": [
    "## Canny Edge로 경계선 잡기"
   ]
  },
  {
   "cell_type": "code",
   "execution_count": 253,
   "id": "89a690b8",
   "metadata": {},
   "outputs": [],
   "source": [
    "canny_img = cv2.Canny(otsu_img, 150, 200)\n",
    "# 대상 이미지, minVal(하위 임계값), maxVal(상위 임계값)\n",
    "\n",
    "cv2.imshow('canny_img', canny_img)\n",
    "cv2.waitKey(0)\n",
    "cv2.destroyAllWindows()"
   ]
  },
  {
   "cell_type": "markdown",
   "id": "19ef6fbd",
   "metadata": {},
   "source": [
    "## 모든 경계선 네모칸으로 만들기"
   ]
  },
  {
   "cell_type": "code",
   "execution_count": null,
   "id": "2ce25e87",
   "metadata": {},
   "outputs": [],
   "source": []
  },
  {
   "cell_type": "code",
   "execution_count": 254,
   "id": "aa30b950",
   "metadata": {},
   "outputs": [],
   "source": [
    "target_img = otsu_img.copy()\n",
    "\n",
    "contours, hierarchy = cv2.findContours(otsu_img, cv2.RETR_LIST, cv2.CHAIN_APPROX_NONE)\n",
    "\n",
    "COLOR = (0, 200, 2)\n",
    "cv2.drawContours(target_img, contours, -1, COLOR, 2)\n",
    "\n",
    "cv2.imshow('contours', target_img)\n",
    "cv2.waitKey(0)\n",
    "cv2.destroyAllWindows()"
   ]
  },
  {
   "cell_type": "code",
   "execution_count": null,
   "id": "ada2fce5",
   "metadata": {},
   "outputs": [],
   "source": []
  }
 ],
 "metadata": {
  "kernelspec": {
   "display_name": "Python 3 (ipykernel)",
   "language": "python",
   "name": "python3"
  },
  "language_info": {
   "codemirror_mode": {
    "name": "ipython",
    "version": 3
   },
   "file_extension": ".py",
   "mimetype": "text/x-python",
   "name": "python",
   "nbconvert_exporter": "python",
   "pygments_lexer": "ipython3",
   "version": "3.11.2"
  }
 },
 "nbformat": 4,
 "nbformat_minor": 5
}
