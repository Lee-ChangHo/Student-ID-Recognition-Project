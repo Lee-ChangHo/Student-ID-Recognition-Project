{
 "cells": [
  {
   "cell_type": "code",
   "execution_count": null,
   "id": "30815f41",
   "metadata": {},
   "outputs": [],
   "source": [
    "def reorderPts(pts):\n",
    "    idx = np.lexsort((pts[:, 1], pts[:, 0]))  # 칼럼0 -> 칼럼1 순으로 정렬한 인덱스를 반환\n",
    "    pts = pts[idx]  # x좌표로 정렬\n",
    "\n",
    "    if pts[0, 1] > pts[1, 1]:\n",
    "        pts[[0, 1]] = pts[[1, 0]]\n",
    "\n",
    "    if pts[2, 1] < pts[3, 1]:\n",
    "        pts[[2, 3]] = pts[[3, 2]]\n",
    "\n",
    "    return pts\n",
    "\n",
    "# 출력 영상 설정\n",
    "dw, dh = 720, 400\n",
    "srcQuad = np.array([[0, 0], [0, 0], [0, 0], [0, 0]], np.float32)\n",
    "dstQuad = np.array([[0, 0], [0, dh], [dw, dh], [dw, 0]], np.float32)\n",
    "dst10 = np.zeros((dh, dw), np.uint8)\n",
    "\n",
    "# 외곽선 검출 및 명함 검출\n",
    "contours, _ = cv2.findContours(src_thresh, cv2.RETR_EXTERNAL, cv2.CHAIN_APPROX_NONE)\n",
    "\n",
    "for pts in contours:\n",
    "    # 너무 작은 객체는 제외\n",
    "    if cv2.contourArea(pts) < 10:\n",
    "        continue\n",
    "\n",
    "    # 외곽선 근사화\n",
    "    approx = cv2.approxPolyDP(pts, cv2.arcLength(pts, True)*0.02, True)\n",
    "\n",
    "    # 컨벡스가 아니면 제외\n",
    "    if not cv2.isContourConvex(approx) or len(approx) != 4:\n",
    "        continue\n",
    "\n",
    "    print(len(approx))\n",
    "\n",
    "    cv2.polylines(src, [approx], True, (0, 255, 0), 2, cv2.LINE_AA)\n",
    "    srcQuad = reorderPts(approx.reshape(4, 2).astype(np.float32))\n",
    "\n",
    "    pers = cv2.getPerspectiveTransform(srcQuad, dstQuad)\n",
    "    dst10 = cv2.warpPerspective(src, pers, (dw, dh), flags=cv2.INTER_CUBIC)\n",
    "\n",
    "    dst_rgb = cv2.cvtColor(dst, cv2.COLOR_BGR2RGB)\n",
    "\n",
    "cv2.imshow('dst10', dst10)\n",
    "cv2.waitKey()\n",
    "cv2.destroyAllWindows()"
   ]
  }
 ],
 "metadata": {
  "kernelspec": {
   "display_name": "Python 3 (ipykernel)",
   "language": "python",
   "name": "python3"
  },
  "language_info": {
   "codemirror_mode": {
    "name": "ipython",
    "version": 3
   },
   "file_extension": ".py",
   "mimetype": "text/x-python",
   "name": "python",
   "nbconvert_exporter": "python",
   "pygments_lexer": "ipython3",
   "version": "3.11.2"
  }
 },
 "nbformat": 4,
 "nbformat_minor": 5
}
